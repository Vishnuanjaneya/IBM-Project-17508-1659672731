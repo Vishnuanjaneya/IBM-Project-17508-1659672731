{
  "nbformat": 4,
  "nbformat_minor": 0,
  "metadata": {
    "colab": {
      "private_outputs": true,
      "provenance": [],
      "authorship_tag": "ABX9TyORpOuuu9hWP+v2f3ZIMl+1",
      "include_colab_link": true
    },
    "kernelspec": {
      "name": "python3",
      "display_name": "Python 3"
    },
    "language_info": {
      "name": "python"
    }
  },
  "cells": [
    {
      "cell_type": "markdown",
      "metadata": {
        "id": "view-in-github",
        "colab_type": "text"
      },
      "source": [
        "<a href=\"https://colab.research.google.com/github/Vishnuanjaneya/IBM-Project-17508-1659672731/blob/main/Assignments/Pramodh%20Arjun/Assignment_2.ipynb\" target=\"_parent\"><img src=\"https://colab.research.google.com/assets/colab-badge.svg\" alt=\"Open In Colab\"/></a>"
      ]
    },
    {
      "cell_type": "markdown",
      "source": [
        "# **Load Data**"
      ],
      "metadata": {
        "id": "oZXNQTepgWdR"
      }
    },
    {
      "cell_type": "code",
      "source": [
        "import pandas as pd\n",
        "import numpy as np\n",
        "df = pd.read_csv(\"Churn_Modelling.csv\")\n",
        "df\n"
      ],
      "metadata": {
        "id": "tp9GvSK-gYbQ"
      },
      "execution_count": null,
      "outputs": []
    },
    {
      "cell_type": "markdown",
      "source": [
        "# **Visualizations**"
      ],
      "metadata": {
        "id": "-p5z0vJ0hPMh"
      }
    },
    {
      "cell_type": "code",
      "source": [
        "import matplotlib.pyplot as plt\n",
        "import seaborn as sns"
      ],
      "metadata": {
        "id": "oTLvq-bIhTaw"
      },
      "execution_count": null,
      "outputs": []
    },
    {
      "cell_type": "markdown",
      "source": [
        "# **Univariate Analysis**"
      ],
      "metadata": {
        "id": "bylP3r7ohZ2b"
      }
    },
    {
      "cell_type": "code",
      "source": [
        "df.dtypes"
      ],
      "metadata": {
        "id": "7rRk37WohdZF"
      },
      "execution_count": null,
      "outputs": []
    },
    {
      "cell_type": "code",
      "source": [
        "plt.scatter(df.index,df['Age'])\n",
        "plt.show()"
      ],
      "metadata": {
        "id": "qJJHfV0whjv5"
      },
      "execution_count": null,
      "outputs": []
    },
    {
      "cell_type": "markdown",
      "source": [
        "# **BI-VARIATE ANALYSIS**"
      ],
      "metadata": {
        "id": "aIYHbWrgiBZY"
      }
    },
    {
      "cell_type": "code",
      "source": [
        "sns.boxplot(x='Gender',y='Age',data=df)\n",
        "plt.show()"
      ],
      "metadata": {
        "id": "3LrVLLAKiC7p"
      },
      "execution_count": null,
      "outputs": []
    },
    {
      "cell_type": "code",
      "source": [
        "sns.boxplot(x='Geography',y='Tenure',data=df)\n",
        "plt.show()"
      ],
      "metadata": {
        "id": "TnXQnBkRiKGY"
      },
      "execution_count": null,
      "outputs": []
    },
    {
      "cell_type": "code",
      "source": [
        "sns.barplot(x='Gender',y='Exited',data=df)\n",
        "sns.countplot(x='Gender',data=df)"
      ],
      "metadata": {
        "id": "vq-CXVgIiVNX"
      },
      "execution_count": null,
      "outputs": []
    },
    {
      "cell_type": "markdown",
      "source": [
        "# **MULTI-VARIATE** **ANALYSIS**"
      ],
      "metadata": {
        "id": "5LJbhQFQi6g-"
      }
    },
    {
      "cell_type": "code",
      "source": [
        "sns.pairplot(df,hue=\"Tenure\",height=3)\n",
        "plt.show()"
      ],
      "metadata": {
        "id": "WyBtwVKqjCcf"
      },
      "execution_count": null,
      "outputs": []
    },
    {
      "cell_type": "code",
      "source": [
        "g=sns.PairGrid(df)\n",
        "g.map(sns.scatterplot)"
      ],
      "metadata": {
        "id": "B4P_seeVjSjo"
      },
      "execution_count": null,
      "outputs": []
    },
    {
      "cell_type": "markdown",
      "source": [
        "# **Descriptive Analysis**"
      ],
      "metadata": {
        "id": "g9_1fc3fjxrw"
      }
    },
    {
      "cell_type": "code",
      "source": [
        "df = pd.DataFrame(df)\n",
        "print (df)"
      ],
      "metadata": {
        "id": "tm3ExABejtp3"
      },
      "execution_count": null,
      "outputs": []
    },
    {
      "cell_type": "code",
      "source": [
        "df.describe()"
      ],
      "metadata": {
        "id": "wjP0vHJvkJed"
      },
      "execution_count": null,
      "outputs": []
    },
    {
      "cell_type": "code",
      "source": [
        "df.count()"
      ],
      "metadata": {
        "id": "Bu24NdizkMSV"
      },
      "execution_count": null,
      "outputs": []
    },
    {
      "cell_type": "code",
      "source": [
        "df['Geography'].value_counts()"
      ],
      "metadata": {
        "id": "DeMTlTq_kQsL"
      },
      "execution_count": null,
      "outputs": []
    },
    {
      "cell_type": "code",
      "source": [
        "numeric_data = df.select_dtypes(include=[np.number]) \n",
        "categorical_data = df.select_dtypes(exclude=[np.number]) \n",
        "print(\"Number of numerical variables: \", numeric_data.shape[1]) \n",
        "print(\"Number of categorical variables: \", categorical_data.shape[1]) "
      ],
      "metadata": {
        "id": "CSnQasQakW4H"
      },
      "execution_count": null,
      "outputs": []
    },
    {
      "cell_type": "code",
      "source": [
        "df.shape"
      ],
      "metadata": {
        "id": "DaJXEUhjkkKt"
      },
      "execution_count": null,
      "outputs": []
    },
    {
      "cell_type": "code",
      "source": [
        "df.columns"
      ],
      "metadata": {
        "id": "e8vFYHykklgD"
      },
      "execution_count": null,
      "outputs": []
    },
    {
      "cell_type": "code",
      "source": [
        "df[\"NumOfProducts\"].unique()"
      ],
      "metadata": {
        "id": "KrCIkb-nkvKz"
      },
      "execution_count": null,
      "outputs": []
    },
    {
      "cell_type": "code",
      "source": [
        "df[\"NumOfProducts\"].value_counts()"
      ],
      "metadata": {
        "id": "FMF8_P_Ukyfo"
      },
      "execution_count": null,
      "outputs": []
    },
    {
      "cell_type": "code",
      "source": [
        "df.info()"
      ],
      "metadata": {
        "id": "5IvSsUZHlALR"
      },
      "execution_count": null,
      "outputs": []
    },
    {
      "cell_type": "markdown",
      "source": [
        "# **Missing Values**"
      ],
      "metadata": {
        "id": "Z_JAA9rBlGd5"
      }
    },
    {
      "cell_type": "code",
      "source": [
        "df.isnull().sum()"
      ],
      "metadata": {
        "id": "wiJf1mT2lENA"
      },
      "execution_count": null,
      "outputs": []
    },
    {
      "cell_type": "code",
      "source": [
        "df.isna().any()"
      ],
      "metadata": {
        "id": "85xoN2KUlYV3"
      },
      "execution_count": null,
      "outputs": []
    },
    {
      "cell_type": "code",
      "source": [
        "# There are no missing values"
      ],
      "metadata": {
        "id": "HaZN8s6hmg76"
      },
      "execution_count": null,
      "outputs": []
    },
    {
      "cell_type": "code",
      "source": [
        "df1=df.copy()\n",
        "df1.shape"
      ],
      "metadata": {
        "id": "T-m6szvhlbaI"
      },
      "execution_count": null,
      "outputs": []
    },
    {
      "cell_type": "code",
      "source": [
        "updated_df=df.dropna(axis=1)\n",
        "updated_df.info()"
      ],
      "metadata": {
        "id": "qk2aUo9olkVw"
      },
      "execution_count": null,
      "outputs": []
    },
    {
      "cell_type": "code",
      "source": [
        "updated_df['Balance']=updated_df['Balance'].fillna(updated_df['Balance'].mean())\n",
        "updated_df.info()"
      ],
      "metadata": {
        "id": "ZSD7MtJglzT5"
      },
      "execution_count": null,
      "outputs": []
    },
    {
      "cell_type": "code",
      "source": [
        "plt.scatter(df.index,df['Balance'])\n",
        "plt.show()"
      ],
      "metadata": {
        "id": "wtvpCTlnmEGv"
      },
      "execution_count": null,
      "outputs": []
    },
    {
      "cell_type": "code",
      "source": [
        "sns.scatterplot(x=df.index,y=df['Balance'],hue=df['NumOfProducts'])"
      ],
      "metadata": {
        "id": "7cwF1Wt6mKFY"
      },
      "execution_count": null,
      "outputs": []
    },
    {
      "cell_type": "code",
      "source": [
        "sns.barplot(x='Gender',y='Exited',data=df)\n",
        "sns.countplot(x='Gender',data=df)"
      ],
      "metadata": {
        "id": "DmwJRcJzzCz_"
      },
      "execution_count": null,
      "outputs": []
    },
    {
      "cell_type": "code",
      "source": [
        "sns.pairplot(data=df[['Balance','CreditScore','Exited']],hue='Exited')"
      ],
      "metadata": {
        "id": "zdsjQRmNy2lz"
      },
      "execution_count": null,
      "outputs": []
    },
    {
      "cell_type": "markdown",
      "source": [
        "# **Outliers and Handling Them**"
      ],
      "metadata": {
        "id": "lnnwdfkVmrJ4"
      }
    },
    {
      "cell_type": "code",
      "source": [
        "sns.boxplot(x='CreditScore', data=df)"
      ],
      "metadata": {
        "id": "XORjGbILmsYY"
      },
      "execution_count": null,
      "outputs": []
    },
    {
      "cell_type": "code",
      "source": [
        "#Removing Outliers based on 'CreditScore' value"
      ],
      "metadata": {
        "id": "ledDNUDUs8V5"
      },
      "execution_count": null,
      "outputs": []
    },
    {
      "cell_type": "code",
      "source": [
        "import sklearn\n",
        "from sklearn.datasets import load_boston \n",
        "\n",
        "Q1 = np.percentile(df['CreditScore'], 25, interpolation = 'midpoint') \n",
        "Q3 = np.percentile(df['CreditScore'], 75, interpolation = 'midpoint') \n",
        "IQR = Q3 - Q1 \n",
        "print(\"Old Shape: \", df.shape) \n",
        "upper = np.where(df['CreditScore'] >= (Q3+1.5*IQR)) \n",
        "lower = np.where(df['CreditScore'] <= (Q1-1.5*IQR)) \n",
        "df.drop(upper[0], inplace = True) \n",
        "df.drop(lower[0], inplace = True) \n",
        "print(\"New Shape: \", df.shape) \n",
        "sns.boxplot(x='CreditScore', data=df)"
      ],
      "metadata": {
        "id": "LQwkEFR7s9LB"
      },
      "execution_count": null,
      "outputs": []
    },
    {
      "cell_type": "markdown",
      "source": [
        "# **Categorical Columns & Encoding Them**"
      ],
      "metadata": {
        "id": "BKdJUkiatIQ-"
      }
    },
    {
      "cell_type": "code",
      "source": [
        "print(\"Number of categorical variables: \", categorical_data.shape[1]) \n",
        "Cat_vars = list(categorical_data.columns)\n",
        "Cat_vars"
      ],
      "metadata": {
        "id": "8UGSg5VKtJDI"
      },
      "execution_count": null,
      "outputs": []
    },
    {
      "cell_type": "code",
      "source": [
        "df['Geography'].value_counts()"
      ],
      "metadata": {
        "id": "pnADs_JytQlO"
      },
      "execution_count": null,
      "outputs": []
    },
    {
      "cell_type": "code",
      "source": [
        "CleanGeo = {\"Geography\":{\"France\": 0, \"Germany\": 1, \"Spain\":2}}"
      ],
      "metadata": {
        "id": "2f3oBhzytYB7"
      },
      "execution_count": null,
      "outputs": []
    },
    {
      "cell_type": "code",
      "source": [
        "data = df.replace(CleanGeo)"
      ],
      "metadata": {
        "id": "u99rr3gWtZrw"
      },
      "execution_count": null,
      "outputs": []
    },
    {
      "cell_type": "code",
      "source": [
        "data['Gender'].value_counts()"
      ],
      "metadata": {
        "id": "LRr2e1HItgtd"
      },
      "execution_count": null,
      "outputs": []
    },
    {
      "cell_type": "code",
      "source": [
        "CleanGen = {\"Gender\": {\"Male\": 0, \"Female\": 1}}"
      ],
      "metadata": {
        "id": "wsMIBtU8toou"
      },
      "execution_count": null,
      "outputs": []
    },
    {
      "cell_type": "code",
      "source": [
        "data = data.replace(CleanGen)"
      ],
      "metadata": {
        "id": "NqzLN6i7trPG"
      },
      "execution_count": null,
      "outputs": []
    },
    {
      "cell_type": "code",
      "source": [
        "data.head"
      ],
      "metadata": {
        "id": "WayZt9VWtxxj"
      },
      "execution_count": null,
      "outputs": []
    },
    {
      "cell_type": "code",
      "source": [
        "data.drop(columns=['Surname'], inplace=True)"
      ],
      "metadata": {
        "id": "nZPCPtrtt6bK"
      },
      "execution_count": null,
      "outputs": []
    },
    {
      "cell_type": "markdown",
      "source": [
        "# **Dependent and Independent Variables**"
      ],
      "metadata": {
        "id": "LhxypoPYt-Db"
      }
    },
    {
      "cell_type": "code",
      "source": [
        "X = data.iloc[:, :-1].values\n",
        "print(X)"
      ],
      "metadata": {
        "id": "Knjmcos8t7_0"
      },
      "execution_count": null,
      "outputs": []
    },
    {
      "cell_type": "code",
      "source": [
        "Y = data.iloc[:, 4].values\n",
        "print(Y)"
      ],
      "metadata": {
        "id": "dN_Ve-RVuJpB"
      },
      "execution_count": null,
      "outputs": []
    },
    {
      "cell_type": "code",
      "source": [
        "#or we can also perform like this"
      ],
      "metadata": {
        "id": "HccJdZRzumkT"
      },
      "execution_count": null,
      "outputs": []
    },
    {
      "cell_type": "code",
      "source": [
        "x=df.iloc[:,:-1].values\n",
        "y=df.iloc[:,4].values\n",
        "print(x,y)"
      ],
      "metadata": {
        "id": "gUrgkcnNuNFC"
      },
      "execution_count": null,
      "outputs": []
    },
    {
      "cell_type": "markdown",
      "source": [
        "# **Scale Independent Variables**"
      ],
      "metadata": {
        "id": "Xolwo0s-u4_J"
      }
    },
    {
      "cell_type": "code",
      "source": [
        "from sklearn.preprocessing import StandardScaler\n",
        " \n",
        "object= StandardScaler()\n",
        " \n",
        "# standardization \n",
        "scale = object.fit_transform(X) \n",
        "print(scale)"
      ],
      "metadata": {
        "id": "DkK1_jGlu21y"
      },
      "execution_count": null,
      "outputs": []
    },
    {
      "cell_type": "markdown",
      "source": [
        "# **Train,Test and Split the Dataset**"
      ],
      "metadata": {
        "id": "IsAYghndvHHr"
      }
    },
    {
      "cell_type": "code",
      "source": [
        "from sklearn.model_selection import train_test_split\n",
        "\n",
        "# split the dataset\n",
        "X_train, X_test, Y_train, Y_test = train_test_split(X, Y, test_size=0.05, random_state=0)"
      ],
      "metadata": {
        "id": "Nm-GTfoXvSaA"
      },
      "execution_count": null,
      "outputs": []
    },
    {
      "cell_type": "code",
      "source": [
        "X_train"
      ],
      "metadata": {
        "id": "mU_m1Ixcvepq"
      },
      "execution_count": null,
      "outputs": []
    },
    {
      "cell_type": "code",
      "source": [
        "Y_train"
      ],
      "metadata": {
        "id": "t4xooXxUvf-6"
      },
      "execution_count": null,
      "outputs": []
    },
    {
      "cell_type": "code",
      "source": [
        "X_test"
      ],
      "metadata": {
        "id": "5C6evUyGvkiZ"
      },
      "execution_count": null,
      "outputs": []
    },
    {
      "cell_type": "code",
      "source": [
        "Y_test"
      ],
      "metadata": {
        "id": "_vz_e4tjvlmy"
      },
      "execution_count": null,
      "outputs": []
    },
    {
      "cell_type": "code",
      "source": [
        "from sklearn.model_selection import train_test_split\n",
        "training_data,testing_data=train_test_split(df,test_size=1,random_state=3)\n",
        "print(training_data,testing_data)"
      ],
      "metadata": {
        "id": "Y-yrwZZvvo3S"
      },
      "execution_count": null,
      "outputs": []
    },
    {
      "cell_type": "code",
      "source": [],
      "metadata": {
        "id": "iWzKoAn_yutb"
      },
      "execution_count": null,
      "outputs": []
    }
  ]
}