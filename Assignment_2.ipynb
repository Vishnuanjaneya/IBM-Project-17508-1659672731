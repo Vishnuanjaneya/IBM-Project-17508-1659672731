{
  "nbformat": 4,
  "nbformat_minor": 0,
  "metadata": {
    "colab": {
      "private_outputs": true,
      "provenance": [],
      "collapsed_sections": [],
      "authorship_tag": "ABX9TyPiGGfLx+wILfHMjV/v4WEm",
      "include_colab_link": true
    },
    "kernelspec": {
      "name": "python3",
      "display_name": "Python 3"
    },
    "language_info": {
      "name": "python"
    }
  },
  "cells": [
    {
      "cell_type": "markdown",
      "metadata": {
        "id": "view-in-github",
        "colab_type": "text"
      },
      "source": [
        "<a href=\"https://colab.research.google.com/github/Vishnuanjaneya/IBM-Project-17508-1659672731/blob/main/Assignment_2.ipynb\" target=\"_parent\"><img src=\"https://colab.research.google.com/assets/colab-badge.svg\" alt=\"Open In Colab\"/></a>"
      ]
    },
    {
      "cell_type": "markdown",
      "source": [
        "# **Load Data**"
      ],
      "metadata": {
        "id": "Q4vMww-Ywbqp"
      }
    },
    {
      "cell_type": "code",
      "source": [
        "import pandas as pd\n",
        "import numpy as np\n",
        "df = pd.read_csv(\"Churn_Modelling.csv\")\n",
        "df\n"
      ],
      "metadata": {
        "id": "YqdQJRkewihQ"
      },
      "execution_count": null,
      "outputs": []
    },
    {
      "cell_type": "markdown",
      "source": [
        "# **Visualizations**"
      ],
      "metadata": {
        "id": "6b2u0g3EwnjJ"
      }
    },
    {
      "cell_type": "code",
      "source": [
        "import matplotlib.pyplot as plt\n",
        "import seaborn as sns"
      ],
      "metadata": {
        "id": "TBioSPs5wmSh"
      },
      "execution_count": null,
      "outputs": []
    },
    {
      "cell_type": "markdown",
      "source": [
        "# **Univariate Analysis**"
      ],
      "metadata": {
        "id": "4iCie7bEwxvJ"
      }
    },
    {
      "cell_type": "code",
      "source": [
        "df.dtypes"
      ],
      "metadata": {
        "id": "fP4UjxbCw2UJ"
      },
      "execution_count": null,
      "outputs": []
    },
    {
      "cell_type": "code",
      "source": [
        "plt.scatter(df.index,df['Age'])\n",
        "plt.show()"
      ],
      "metadata": {
        "id": "Xcrjn1rPxFTY"
      },
      "execution_count": null,
      "outputs": []
    },
    {
      "cell_type": "markdown",
      "source": [
        "# **BI-VARIATE ANALYSIS**"
      ],
      "metadata": {
        "id": "fiGQEs0axIpR"
      }
    },
    {
      "cell_type": "code",
      "source": [
        "sns.boxplot(x='Gender',y='Age',data=df)\n",
        "plt.show()"
      ],
      "metadata": {
        "id": "PulE6LnQxPdJ"
      },
      "execution_count": null,
      "outputs": []
    },
    {
      "cell_type": "code",
      "source": [
        "sns.boxplot(x='Geography',y='Tenure',data=df)\n",
        "plt.show()"
      ],
      "metadata": {
        "id": "PI8PNB2Q171i"
      },
      "execution_count": null,
      "outputs": []
    },
    {
      "cell_type": "code",
      "source": [
        "sns.barplot(x='Gender',y='Exited',data=df)\n",
        "sns.countplot(x='Gender',data=df)"
      ],
      "metadata": {
        "id": "bvpgigO-1-qC"
      },
      "execution_count": null,
      "outputs": []
    },
    {
      "cell_type": "markdown",
      "source": [
        "# **Multivariate Analysis**"
      ],
      "metadata": {
        "id": "ZgCxFXgw2B-Z"
      }
    },
    {
      "cell_type": "code",
      "source": [
        "sns.pairplot(df,hue=\"Tenure\",height=3)\n",
        "plt.show()"
      ],
      "metadata": {
        "id": "VWEDszLC2Ai6"
      },
      "execution_count": null,
      "outputs": []
    },
    {
      "cell_type": "code",
      "source": [
        "g=sns.PairGrid(df)\n",
        "g.map(sns.scatterplot)"
      ],
      "metadata": {
        "id": "r-rb0YYO2N8K"
      },
      "execution_count": null,
      "outputs": []
    },
    {
      "cell_type": "markdown",
      "source": [
        "# **Descriptive Analysis**"
      ],
      "metadata": {
        "id": "xcKHZlAZ2Wcq"
      }
    },
    {
      "cell_type": "code",
      "source": [
        "df = pd.DataFrame(df)\n",
        "print (df)"
      ],
      "metadata": {
        "id": "LJ3g8iqP2UMR"
      },
      "execution_count": null,
      "outputs": []
    },
    {
      "cell_type": "code",
      "source": [
        "df.describe()"
      ],
      "metadata": {
        "id": "vGMrFPfT2eVc"
      },
      "execution_count": null,
      "outputs": []
    },
    {
      "cell_type": "code",
      "source": [
        "df.count()"
      ],
      "metadata": {
        "id": "ptXUorQD2jOU"
      },
      "execution_count": null,
      "outputs": []
    },
    {
      "cell_type": "code",
      "source": [
        "df['Geography'].value_counts()"
      ],
      "metadata": {
        "id": "bmDrFCvQ2mIu"
      },
      "execution_count": null,
      "outputs": []
    },
    {
      "cell_type": "code",
      "source": [
        "numeric_data = df.select_dtypes(include=[np.number]) \n",
        "categorical_data = df.select_dtypes(exclude=[np.number]) \n",
        "print(\"Number of numerical variables: \", numeric_data.shape[1]) \n",
        "print(\"Number of categorical variables: \", categorical_data.shape[1]) "
      ],
      "metadata": {
        "id": "SZvur-Xb2p36"
      },
      "execution_count": null,
      "outputs": []
    },
    {
      "cell_type": "code",
      "source": [
        "df.shape"
      ],
      "metadata": {
        "id": "iOvwdbpg2rDC"
      },
      "execution_count": null,
      "outputs": []
    },
    {
      "cell_type": "code",
      "source": [
        "df.columns"
      ],
      "metadata": {
        "id": "1caQFzZt2tm6"
      },
      "execution_count": null,
      "outputs": []
    },
    {
      "cell_type": "code",
      "source": [
        "df[\"NumOfProducts\"].unique()"
      ],
      "metadata": {
        "id": "cX5ku8Lx20ik"
      },
      "execution_count": null,
      "outputs": []
    },
    {
      "cell_type": "code",
      "source": [
        "df[\"NumOfProducts\"].value_counts()"
      ],
      "metadata": {
        "id": "9xqlg4Q323RK"
      },
      "execution_count": null,
      "outputs": []
    },
    {
      "cell_type": "code",
      "source": [
        "df.info()"
      ],
      "metadata": {
        "id": "UX1FGP5c26a6"
      },
      "execution_count": null,
      "outputs": []
    },
    {
      "cell_type": "markdown",
      "source": [
        "# **Missing Values**"
      ],
      "metadata": {
        "id": "gkVXhqd529NK"
      }
    },
    {
      "cell_type": "code",
      "source": [
        "df.isnull().sum()"
      ],
      "metadata": {
        "id": "xEHIQD8h3Afy"
      },
      "execution_count": null,
      "outputs": []
    },
    {
      "cell_type": "code",
      "source": [
        "df.isna().any()"
      ],
      "metadata": {
        "id": "6gvqnM063FTC"
      },
      "execution_count": null,
      "outputs": []
    },
    {
      "cell_type": "code",
      "source": [
        "df1=df.copy()\n",
        "df1.shape"
      ],
      "metadata": {
        "id": "zM0dGYCY3Irj"
      },
      "execution_count": null,
      "outputs": []
    },
    {
      "cell_type": "code",
      "source": [
        "updated_df=df.dropna(axis=1)\n",
        "updated_df.info()"
      ],
      "metadata": {
        "id": "kDzL2OHP3LmF"
      },
      "execution_count": null,
      "outputs": []
    },
    {
      "cell_type": "code",
      "source": [
        "updated_df['Balance']=updated_df['Balance'].fillna(updated_df['Balance'].mean())\n",
        "updated_df.info()"
      ],
      "metadata": {
        "id": "AoyZFjl-3N-K"
      },
      "execution_count": null,
      "outputs": []
    },
    {
      "cell_type": "code",
      "source": [
        "plt.scatter(df.index,df['Balance'])\n",
        "plt.show()"
      ],
      "metadata": {
        "id": "E-BFAcvz3SJ7"
      },
      "execution_count": null,
      "outputs": []
    },
    {
      "cell_type": "code",
      "source": [
        "sns.scatterplot(x=df.index,y=df['Balance'],hue=df['NumOfProducts'])"
      ],
      "metadata": {
        "id": "PtJfw-uV3VQK"
      },
      "execution_count": null,
      "outputs": []
    },
    {
      "cell_type": "code",
      "source": [
        "sns.barplot(x='Gender',y='Exited',data=df)\n",
        "sns.countplot(x='Gender',data=df)"
      ],
      "metadata": {
        "id": "dmaSI39R3eRC"
      },
      "execution_count": null,
      "outputs": []
    },
    {
      "cell_type": "code",
      "source": [
        "sns.pairplot(data=df[['Balance','CreditScore','Exited']],hue='Exited')"
      ],
      "metadata": {
        "id": "LhRkG82F3ivr"
      },
      "execution_count": null,
      "outputs": []
    },
    {
      "cell_type": "markdown",
      "source": [
        "# **Outliers and Handling Them**"
      ],
      "metadata": {
        "id": "hVolHcej3qjz"
      }
    },
    {
      "cell_type": "code",
      "source": [
        "sns.boxplot(x='CreditScore', data=df)"
      ],
      "metadata": {
        "id": "G4HrWhQp3nUl"
      },
      "execution_count": null,
      "outputs": []
    },
    {
      "cell_type": "code",
      "source": [
        "import sklearn\n",
        "from sklearn.datasets import load_boston \n",
        "\n",
        "Q1 = np.percentile(df['CreditScore'], 25, interpolation = 'midpoint') \n",
        "Q3 = np.percentile(df['CreditScore'], 75, interpolation = 'midpoint') \n",
        "IQR = Q3 - Q1 \n",
        "print(\"Old Shape: \", df.shape) \n",
        "upper = np.where(df['CreditScore'] >= (Q3+1.5*IQR)) \n",
        "lower = np.where(df['CreditScore'] <= (Q1-1.5*IQR)) \n",
        "df.drop(upper[0], inplace = True) \n",
        "df.drop(lower[0], inplace = True) \n",
        "print(\"New Shape: \", df.shape) \n",
        "sns.boxplot(x='CreditScore', data=df)"
      ],
      "metadata": {
        "id": "pcCD1hVE3w8B"
      },
      "execution_count": null,
      "outputs": []
    },
    {
      "cell_type": "markdown",
      "source": [
        "# **Categorical Columns & Encoding Them**"
      ],
      "metadata": {
        "id": "FYBT3E4h32cp"
      }
    },
    {
      "cell_type": "code",
      "source": [
        "print(\"Number of categorical variables: \", categorical_data.shape[1]) \n",
        "Cat_vars = list(categorical_data.columns)\n",
        "Cat_vars"
      ],
      "metadata": {
        "id": "MN5NsUcY31xR"
      },
      "execution_count": null,
      "outputs": []
    },
    {
      "cell_type": "code",
      "source": [
        "df['Geography'].value_counts()"
      ],
      "metadata": {
        "id": "Q5Tp7pPN38-J"
      },
      "execution_count": null,
      "outputs": []
    },
    {
      "cell_type": "code",
      "source": [
        "CleanGeo = {\"Geography\":{\"France\": 0, \"Germany\": 1, \"Spain\":2}}"
      ],
      "metadata": {
        "id": "avJzPfbu3_wD"
      },
      "execution_count": null,
      "outputs": []
    },
    {
      "cell_type": "code",
      "source": [
        "data = df.replace(CleanGeo)"
      ],
      "metadata": {
        "id": "sRKBcbcK4EeL"
      },
      "execution_count": null,
      "outputs": []
    },
    {
      "cell_type": "code",
      "source": [
        "data.head"
      ],
      "metadata": {
        "id": "JNXUSAPr4JBU"
      },
      "execution_count": null,
      "outputs": []
    },
    {
      "cell_type": "markdown",
      "source": [
        "# **Dependent and Independent Variables**"
      ],
      "metadata": {
        "id": "JRPYlOQ-4Lqj"
      }
    },
    {
      "cell_type": "code",
      "source": [
        "x=df.iloc[:,:-1].values\n",
        "y=df.iloc[:,4].values\n",
        "print(x,y)"
      ],
      "metadata": {
        "id": "gqzWZj3s4KZ7"
      },
      "execution_count": null,
      "outputs": []
    },
    {
      "cell_type": "markdown",
      "source": [
        "Train,Test and Split the Dataset"
      ],
      "metadata": {
        "id": "BbGOKexC4kNM"
      }
    },
    {
      "cell_type": "code",
      "source": [
        "from sklearn.model_selection import train_test_split\n",
        "training_data,testing_data=train_test_split(df,test_size=1,random_state=3)\n",
        "print(training_data,testing_data)"
      ],
      "metadata": {
        "id": "UEAvpMPK4mMr"
      },
      "execution_count": null,
      "outputs": []
    }
  ]
}